{
  "cells": [
    {
      "cell_type": "code",
      "execution_count": null,
      "metadata": {
        "id": "qiA_0RtazkuL"
      },
      "outputs": [],
      "source": [
        "#in the Name of GOD"
      ]
    },
    {
      "cell_type": "code",
      "execution_count": null,
      "metadata": {
        "id": "EUzq0CtMzkuM",
        "outputId": "844d8e5e-2990-4b8c-dadc-8627c49c0c90"
      },
      "outputs": [
        {
          "name": "stdout",
          "output_type": "stream",
          "text": [
            "Requirement already satisfied: tf-nightly in c:\\users\\qomasus.com\\anaconda3\\lib\\site-packages (2.16.0.dev20231229)\n",
            "Requirement already satisfied: tf-nightly-intel==2.16.0-dev20231229 in c:\\users\\qomasus.com\\anaconda3\\lib\\site-packages (from tf-nightly) (2.16.0.dev20231229)\n",
            "Requirement already satisfied: absl-py>=1.0.0 in c:\\users\\qomasus.com\\anaconda3\\lib\\site-packages (from tf-nightly-intel==2.16.0-dev20231229->tf-nightly) (2.0.0)\n",
            "Requirement already satisfied: astunparse>=1.6.0 in c:\\users\\qomasus.com\\anaconda3\\lib\\site-packages (from tf-nightly-intel==2.16.0-dev20231229->tf-nightly) (1.6.3)\n",
            "Requirement already satisfied: flatbuffers>=23.5.26 in c:\\users\\qomasus.com\\anaconda3\\lib\\site-packages (from tf-nightly-intel==2.16.0-dev20231229->tf-nightly) (23.5.26)\n",
            "Requirement already satisfied: gast!=0.5.0,!=0.5.1,!=0.5.2,>=0.2.1 in c:\\users\\qomasus.com\\anaconda3\\lib\\site-packages (from tf-nightly-intel==2.16.0-dev20231229->tf-nightly) (0.5.4)\n",
            "Requirement already satisfied: google-pasta>=0.1.1 in c:\\users\\qomasus.com\\anaconda3\\lib\\site-packages (from tf-nightly-intel==2.16.0-dev20231229->tf-nightly) (0.2.0)\n",
            "Requirement already satisfied: h5py>=3.10.0 in c:\\users\\qomasus.com\\anaconda3\\lib\\site-packages (from tf-nightly-intel==2.16.0-dev20231229->tf-nightly) (3.10.0)\n",
            "Requirement already satisfied: libclang>=13.0.0 in c:\\users\\qomasus.com\\anaconda3\\lib\\site-packages (from tf-nightly-intel==2.16.0-dev20231229->tf-nightly) (16.0.6)\n",
            "Requirement already satisfied: ml-dtypes~=0.3.1 in c:\\users\\qomasus.com\\anaconda3\\lib\\site-packages (from tf-nightly-intel==2.16.0-dev20231229->tf-nightly) (0.3.2)\n",
            "Requirement already satisfied: opt-einsum>=2.3.2 in c:\\users\\qomasus.com\\anaconda3\\lib\\site-packages (from tf-nightly-intel==2.16.0-dev20231229->tf-nightly) (3.3.0)\n",
            "Requirement already satisfied: packaging in c:\\users\\qomasus.com\\anaconda3\\lib\\site-packages (from tf-nightly-intel==2.16.0-dev20231229->tf-nightly) (23.0)\n",
            "Requirement already satisfied: protobuf!=4.21.0,!=4.21.1,!=4.21.2,!=4.21.3,!=4.21.4,!=4.21.5,<5.0.0dev,>=3.20.3 in c:\\users\\qomasus.com\\anaconda3\\lib\\site-packages (from tf-nightly-intel==2.16.0-dev20231229->tf-nightly) (4.25.1)\n",
            "Requirement already satisfied: setuptools in c:\\users\\qomasus.com\\anaconda3\\lib\\site-packages (from tf-nightly-intel==2.16.0-dev20231229->tf-nightly) (67.8.0)\n",
            "Requirement already satisfied: six>=1.12.0 in c:\\users\\qomasus.com\\anaconda3\\lib\\site-packages (from tf-nightly-intel==2.16.0-dev20231229->tf-nightly) (1.16.0)\n",
            "Requirement already satisfied: termcolor>=1.1.0 in c:\\users\\qomasus.com\\anaconda3\\lib\\site-packages (from tf-nightly-intel==2.16.0-dev20231229->tf-nightly) (2.4.0)\n",
            "Requirement already satisfied: typing-extensions>=3.6.6 in c:\\users\\qomasus.com\\anaconda3\\lib\\site-packages (from tf-nightly-intel==2.16.0-dev20231229->tf-nightly) (4.6.3)\n",
            "Requirement already satisfied: wrapt<1.15,>=1.11.0 in c:\\users\\qomasus.com\\anaconda3\\lib\\site-packages (from tf-nightly-intel==2.16.0-dev20231229->tf-nightly) (1.14.1)\n",
            "Requirement already satisfied: grpcio<2.0,>=1.24.3 in c:\\users\\qomasus.com\\anaconda3\\lib\\site-packages (from tf-nightly-intel==2.16.0-dev20231229->tf-nightly) (1.60.0)\n",
            "Requirement already satisfied: tb-nightly~=2.16.0.a in c:\\users\\qomasus.com\\anaconda3\\lib\\site-packages (from tf-nightly-intel==2.16.0-dev20231229->tf-nightly) (2.16.0a20240105)\n",
            "Requirement already satisfied: tf-estimator-nightly~=2.14.0.dev in c:\\users\\qomasus.com\\anaconda3\\lib\\site-packages (from tf-nightly-intel==2.16.0-dev20231229->tf-nightly) (2.14.0.dev2023080308)\n",
            "Requirement already satisfied: keras-nightly~=3.0.0.dev in c:\\users\\qomasus.com\\anaconda3\\lib\\site-packages (from tf-nightly-intel==2.16.0-dev20231229->tf-nightly) (3.0.3.dev2024010503)\n",
            "Requirement already satisfied: tensorflow-io-gcs-filesystem>=0.23.1 in c:\\users\\qomasus.com\\anaconda3\\lib\\site-packages (from tf-nightly-intel==2.16.0-dev20231229->tf-nightly) (0.31.0)\n",
            "Requirement already satisfied: numpy<2.0.0,>=1.23.5 in c:\\users\\qomasus.com\\anaconda3\\lib\\site-packages (from tf-nightly-intel==2.16.0-dev20231229->tf-nightly) (1.24.3)\n",
            "Requirement already satisfied: wheel<1.0,>=0.23.0 in c:\\users\\qomasus.com\\anaconda3\\lib\\site-packages (from astunparse>=1.6.0->tf-nightly-intel==2.16.0-dev20231229->tf-nightly) (0.38.4)\n",
            "Requirement already satisfied: rich in c:\\users\\qomasus.com\\anaconda3\\lib\\site-packages (from keras-nightly~=3.0.0.dev->tf-nightly-intel==2.16.0-dev20231229->tf-nightly) (13.7.0)\n",
            "Requirement already satisfied: namex in c:\\users\\qomasus.com\\anaconda3\\lib\\site-packages (from keras-nightly~=3.0.0.dev->tf-nightly-intel==2.16.0-dev20231229->tf-nightly) (0.0.7)\n",
            "Requirement already satisfied: dm-tree in c:\\users\\qomasus.com\\anaconda3\\lib\\site-packages (from keras-nightly~=3.0.0.dev->tf-nightly-intel==2.16.0-dev20231229->tf-nightly) (0.1.8)\n",
            "Requirement already satisfied: google-auth<3,>=1.6.3 in c:\\users\\qomasus.com\\anaconda3\\lib\\site-packages (from tb-nightly~=2.16.0.a->tf-nightly-intel==2.16.0-dev20231229->tf-nightly) (2.26.1)\n",
            "Requirement already satisfied: google-auth-oauthlib<2,>=0.5 in c:\\users\\qomasus.com\\anaconda3\\lib\\site-packages (from tb-nightly~=2.16.0.a->tf-nightly-intel==2.16.0-dev20231229->tf-nightly) (1.2.0)\n",
            "Requirement already satisfied: markdown>=2.6.8 in c:\\users\\qomasus.com\\anaconda3\\lib\\site-packages (from tb-nightly~=2.16.0.a->tf-nightly-intel==2.16.0-dev20231229->tf-nightly) (3.4.1)\n",
            "Requirement already satisfied: requests<3,>=2.21.0 in c:\\users\\qomasus.com\\anaconda3\\lib\\site-packages (from tb-nightly~=2.16.0.a->tf-nightly-intel==2.16.0-dev20231229->tf-nightly) (2.31.0)\n",
            "Requirement already satisfied: tensorboard-data-server<0.8.0,>=0.7.0 in c:\\users\\qomasus.com\\anaconda3\\lib\\site-packages (from tb-nightly~=2.16.0.a->tf-nightly-intel==2.16.0-dev20231229->tf-nightly) (0.7.2)\n",
            "Requirement already satisfied: tf-keras-nightly in c:\\users\\qomasus.com\\anaconda3\\lib\\site-packages (from tb-nightly~=2.16.0.a->tf-nightly-intel==2.16.0-dev20231229->tf-nightly) (2.16.0.dev2023123010)\n",
            "Requirement already satisfied: werkzeug>=1.0.1 in c:\\users\\qomasus.com\\anaconda3\\lib\\site-packages (from tb-nightly~=2.16.0.a->tf-nightly-intel==2.16.0-dev20231229->tf-nightly) (2.2.3)\n",
            "Requirement already satisfied: cachetools<6.0,>=2.0.0 in c:\\users\\qomasus.com\\anaconda3\\lib\\site-packages (from google-auth<3,>=1.6.3->tb-nightly~=2.16.0.a->tf-nightly-intel==2.16.0-dev20231229->tf-nightly) (5.3.2)\n",
            "Requirement already satisfied: pyasn1-modules>=0.2.1 in c:\\users\\qomasus.com\\anaconda3\\lib\\site-packages (from google-auth<3,>=1.6.3->tb-nightly~=2.16.0.a->tf-nightly-intel==2.16.0-dev20231229->tf-nightly) (0.2.8)\n",
            "Requirement already satisfied: rsa<5,>=3.1.4 in c:\\users\\qomasus.com\\anaconda3\\lib\\site-packages (from google-auth<3,>=1.6.3->tb-nightly~=2.16.0.a->tf-nightly-intel==2.16.0-dev20231229->tf-nightly) (4.9)\n",
            "Requirement already satisfied: requests-oauthlib>=0.7.0 in c:\\users\\qomasus.com\\anaconda3\\lib\\site-packages (from google-auth-oauthlib<2,>=0.5->tb-nightly~=2.16.0.a->tf-nightly-intel==2.16.0-dev20231229->tf-nightly) (1.3.1)\n",
            "Requirement already satisfied: charset-normalizer<4,>=2 in c:\\users\\qomasus.com\\anaconda3\\lib\\site-packages (from requests<3,>=2.21.0->tb-nightly~=2.16.0.a->tf-nightly-intel==2.16.0-dev20231229->tf-nightly) (2.0.4)\n",
            "Requirement already satisfied: idna<4,>=2.5 in c:\\users\\qomasus.com\\anaconda3\\lib\\site-packages (from requests<3,>=2.21.0->tb-nightly~=2.16.0.a->tf-nightly-intel==2.16.0-dev20231229->tf-nightly) (3.4)\n",
            "Requirement already satisfied: urllib3<3,>=1.21.1 in c:\\users\\qomasus.com\\anaconda3\\lib\\site-packages (from requests<3,>=2.21.0->tb-nightly~=2.16.0.a->tf-nightly-intel==2.16.0-dev20231229->tf-nightly) (1.26.16)\n",
            "Requirement already satisfied: certifi>=2017.4.17 in c:\\users\\qomasus.com\\anaconda3\\lib\\site-packages (from requests<3,>=2.21.0->tb-nightly~=2.16.0.a->tf-nightly-intel==2.16.0-dev20231229->tf-nightly) (2023.11.17)\n",
            "Requirement already satisfied: MarkupSafe>=2.1.1 in c:\\users\\qomasus.com\\anaconda3\\lib\\site-packages (from werkzeug>=1.0.1->tb-nightly~=2.16.0.a->tf-nightly-intel==2.16.0-dev20231229->tf-nightly) (2.1.1)\n",
            "Requirement already satisfied: markdown-it-py>=2.2.0 in c:\\users\\qomasus.com\\anaconda3\\lib\\site-packages (from rich->keras-nightly~=3.0.0.dev->tf-nightly-intel==2.16.0-dev20231229->tf-nightly) (2.2.0)\n",
            "Requirement already satisfied: pygments<3.0.0,>=2.13.0 in c:\\users\\qomasus.com\\anaconda3\\lib\\site-packages (from rich->keras-nightly~=3.0.0.dev->tf-nightly-intel==2.16.0-dev20231229->tf-nightly) (2.15.1)\n",
            "Requirement already satisfied: mdurl~=0.1 in c:\\users\\qomasus.com\\anaconda3\\lib\\site-packages (from markdown-it-py>=2.2.0->rich->keras-nightly~=3.0.0.dev->tf-nightly-intel==2.16.0-dev20231229->tf-nightly) (0.1.0)\n",
            "Requirement already satisfied: pyasn1<0.5.0,>=0.4.6 in c:\\users\\qomasus.com\\anaconda3\\lib\\site-packages (from pyasn1-modules>=0.2.1->google-auth<3,>=1.6.3->tb-nightly~=2.16.0.a->tf-nightly-intel==2.16.0-dev20231229->tf-nightly) (0.4.8)\n",
            "Requirement already satisfied: oauthlib>=3.0.0 in c:\\users\\qomasus.com\\anaconda3\\lib\\site-packages (from requests-oauthlib>=0.7.0->google-auth-oauthlib<2,>=0.5->tb-nightly~=2.16.0.a->tf-nightly-intel==2.16.0-dev20231229->tf-nightly) (3.2.2)\n"
          ]
        }
      ],
      "source": [
        "!pip install tf-nightly"
      ]
    },
    {
      "cell_type": "code",
      "execution_count": null,
      "metadata": {
        "id": "Z8DrZp4ZzkuN"
      },
      "outputs": [],
      "source": [
        "def eval(y_true, y_pred):\n",
        "    global p\n",
        "    global r\n",
        "    global f_2\n",
        "    global a\n",
        "    from sklearn.metrics import fbeta_score\n",
        "    from sklearn.metrics import f1_score\n",
        "    from sklearn.metrics import precision_score\n",
        "    from sklearn.metrics import recall_score\n",
        "    from sklearn.metrics import accuracy_score\n",
        "\n",
        "    p = precision_score(y_true, y_pred)\n",
        "    r = recall_score(y_true, y_pred)\n",
        "    f_2 = fbeta_score(y_true, y_pred, beta=2.0)\n",
        "    a = accuracy_score(y_true, y_pred)\n",
        "\n",
        "    print(\"F-2 Score:\")\n",
        "    print(f_2)\n",
        "    print(\"Recall:\")\n",
        "    print(r)\n",
        "    print(\"Precision:\")\n",
        "    print(p)\n",
        "    print(\"Accuracy:\")\n",
        "    print(a)\n",
        "\n",
        "\n",
        "\n",
        "    return f_2, r, p, a"
      ]
    },
    {
      "cell_type": "code",
      "execution_count": null,
      "metadata": {
        "id": "4DENaKRmzkuN"
      },
      "outputs": [],
      "source": [
        "import glob\n",
        "import pandas as pd\n",
        "\n",
        "path = 'D:\\\\402-1\\\\داده کاوی\\\\حل تمارین\\\\exercise7\\\\Brazilian Dataset'\n",
        "arff_files = glob.glob(path + \"/*.arff\")"
      ]
    },
    {
      "cell_type": "code",
      "execution_count": null,
      "metadata": {
        "id": "saD1PZufzkuO"
      },
      "outputs": [],
      "source": [
        "import pandas as pd\n",
        "from scipy.io import arff\n",
        "\n",
        "df_list = []\n",
        "for i in range(0,len(arff_files)):\n",
        "    data = arff.loadarff(arff_files[i])\n",
        "    temp_df= pd.DataFrame(data[0])\n",
        "    df_list.append(temp_df)\n",
        "\n",
        "# Concatenate all DataFrames\n",
        "df   = pd.concat(df_list, ignore_index=True)\n"
      ]
    },
    {
      "cell_type": "code",
      "execution_count": null,
      "metadata": {
        "id": "Ig6LvflRzkuO",
        "outputId": "384dff97-2160-41d4-9e42-82524ee95f89"
      },
      "outputs": [
        {
          "data": {
            "text/html": [
              "<div>\n",
              "<style scoped>\n",
              "    .dataframe tbody tr th:only-of-type {\n",
              "        vertical-align: middle;\n",
              "    }\n",
              "\n",
              "    .dataframe tbody tr th {\n",
              "        vertical-align: top;\n",
              "    }\n",
              "\n",
              "    .dataframe thead th {\n",
              "        text-align: right;\n",
              "    }\n",
              "</style>\n",
              "<table border=\"1\" class=\"dataframe\">\n",
              "  <thead>\n",
              "    <tr style=\"text-align: right;\">\n",
              "      <th></th>\n",
              "      <th>mcc_cat</th>\n",
              "      <th>mcc_ant_cat</th>\n",
              "      <th>cep_cat</th>\n",
              "      <th>cep_ant_cat</th>\n",
              "      <th>valor_trans_cat</th>\n",
              "      <th>valor_trans_ant_cat</th>\n",
              "      <th>pos_entry</th>\n",
              "      <th>lim_cred_cat</th>\n",
              "      <th>bandeira_cat</th>\n",
              "      <th>variante_cat</th>\n",
              "      <th>score_cat</th>\n",
              "      <th>tp_pessoa_cat</th>\n",
              "      <th>trans_nacional_cat</th>\n",
              "      <th>qtde_parc_cat</th>\n",
              "      <th>velocidade_cat</th>\n",
              "      <th>dif_score_cat</th>\n",
              "      <th>trans_limit_cat</th>\n",
              "      <th>flag_fraude_cat</th>\n",
              "    </tr>\n",
              "  </thead>\n",
              "  <tbody>\n",
              "    <tr>\n",
              "      <th>0</th>\n",
              "      <td>9.0</td>\n",
              "      <td>22.0</td>\n",
              "      <td>3.0</td>\n",
              "      <td>3.0</td>\n",
              "      <td>6.0</td>\n",
              "      <td>6.0</td>\n",
              "      <td>2.0</td>\n",
              "      <td>6.0</td>\n",
              "      <td>2.0</td>\n",
              "      <td>3.0</td>\n",
              "      <td>0.0</td>\n",
              "      <td>1.0</td>\n",
              "      <td>0.0</td>\n",
              "      <td>1.0</td>\n",
              "      <td>7.0</td>\n",
              "      <td>1.0</td>\n",
              "      <td>0.0</td>\n",
              "      <td>b'N'</td>\n",
              "    </tr>\n",
              "    <tr>\n",
              "      <th>1</th>\n",
              "      <td>22.0</td>\n",
              "      <td>22.0</td>\n",
              "      <td>3.0</td>\n",
              "      <td>3.0</td>\n",
              "      <td>7.0</td>\n",
              "      <td>7.0</td>\n",
              "      <td>2.0</td>\n",
              "      <td>6.0</td>\n",
              "      <td>2.0</td>\n",
              "      <td>3.0</td>\n",
              "      <td>0.0</td>\n",
              "      <td>1.0</td>\n",
              "      <td>0.0</td>\n",
              "      <td>1.0</td>\n",
              "      <td>4.0</td>\n",
              "      <td>4.0</td>\n",
              "      <td>0.0</td>\n",
              "      <td>b'N'</td>\n",
              "    </tr>\n",
              "    <tr>\n",
              "      <th>2</th>\n",
              "      <td>22.0</td>\n",
              "      <td>22.0</td>\n",
              "      <td>3.0</td>\n",
              "      <td>3.0</td>\n",
              "      <td>7.0</td>\n",
              "      <td>7.0</td>\n",
              "      <td>2.0</td>\n",
              "      <td>6.0</td>\n",
              "      <td>2.0</td>\n",
              "      <td>3.0</td>\n",
              "      <td>3.0</td>\n",
              "      <td>1.0</td>\n",
              "      <td>0.0</td>\n",
              "      <td>1.0</td>\n",
              "      <td>6.0</td>\n",
              "      <td>5.0</td>\n",
              "      <td>0.0</td>\n",
              "      <td>b'S'</td>\n",
              "    </tr>\n",
              "    <tr>\n",
              "      <th>3</th>\n",
              "      <td>9.0</td>\n",
              "      <td>0.0</td>\n",
              "      <td>2.0</td>\n",
              "      <td>0.0</td>\n",
              "      <td>4.0</td>\n",
              "      <td>1.0</td>\n",
              "      <td>2.0</td>\n",
              "      <td>4.0</td>\n",
              "      <td>2.0</td>\n",
              "      <td>3.0</td>\n",
              "      <td>0.0</td>\n",
              "      <td>1.0</td>\n",
              "      <td>0.0</td>\n",
              "      <td>1.0</td>\n",
              "      <td>2.0</td>\n",
              "      <td>3.0</td>\n",
              "      <td>0.0</td>\n",
              "      <td>b'N'</td>\n",
              "    </tr>\n",
              "    <tr>\n",
              "      <th>4</th>\n",
              "      <td>15.0</td>\n",
              "      <td>9.0</td>\n",
              "      <td>2.0</td>\n",
              "      <td>2.0</td>\n",
              "      <td>4.0</td>\n",
              "      <td>4.0</td>\n",
              "      <td>2.0</td>\n",
              "      <td>4.0</td>\n",
              "      <td>2.0</td>\n",
              "      <td>3.0</td>\n",
              "      <td>0.0</td>\n",
              "      <td>1.0</td>\n",
              "      <td>0.0</td>\n",
              "      <td>1.0</td>\n",
              "      <td>3.0</td>\n",
              "      <td>3.0</td>\n",
              "      <td>0.0</td>\n",
              "      <td>b'N'</td>\n",
              "    </tr>\n",
              "    <tr>\n",
              "      <th>...</th>\n",
              "      <td>...</td>\n",
              "      <td>...</td>\n",
              "      <td>...</td>\n",
              "      <td>...</td>\n",
              "      <td>...</td>\n",
              "      <td>...</td>\n",
              "      <td>...</td>\n",
              "      <td>...</td>\n",
              "      <td>...</td>\n",
              "      <td>...</td>\n",
              "      <td>...</td>\n",
              "      <td>...</td>\n",
              "      <td>...</td>\n",
              "      <td>...</td>\n",
              "      <td>...</td>\n",
              "      <td>...</td>\n",
              "      <td>...</td>\n",
              "      <td>...</td>\n",
              "    </tr>\n",
              "    <tr>\n",
              "      <th>374818</th>\n",
              "      <td>8.0</td>\n",
              "      <td>15.0</td>\n",
              "      <td>6.0</td>\n",
              "      <td>6.0</td>\n",
              "      <td>6.0</td>\n",
              "      <td>2.0</td>\n",
              "      <td>2.0</td>\n",
              "      <td>3.0</td>\n",
              "      <td>4.0</td>\n",
              "      <td>1.0</td>\n",
              "      <td>0.0</td>\n",
              "      <td>1.0</td>\n",
              "      <td>0.0</td>\n",
              "      <td>1.0</td>\n",
              "      <td>5.0</td>\n",
              "      <td>3.0</td>\n",
              "      <td>0.0</td>\n",
              "      <td>b'N'</td>\n",
              "    </tr>\n",
              "    <tr>\n",
              "      <th>374819</th>\n",
              "      <td>6.0</td>\n",
              "      <td>6.0</td>\n",
              "      <td>1.0</td>\n",
              "      <td>1.0</td>\n",
              "      <td>2.0</td>\n",
              "      <td>2.0</td>\n",
              "      <td>2.0</td>\n",
              "      <td>1.0</td>\n",
              "      <td>4.0</td>\n",
              "      <td>1.0</td>\n",
              "      <td>0.0</td>\n",
              "      <td>1.0</td>\n",
              "      <td>0.0</td>\n",
              "      <td>1.0</td>\n",
              "      <td>5.0</td>\n",
              "      <td>3.0</td>\n",
              "      <td>0.0</td>\n",
              "      <td>b'N'</td>\n",
              "    </tr>\n",
              "    <tr>\n",
              "      <th>374820</th>\n",
              "      <td>3.0</td>\n",
              "      <td>0.0</td>\n",
              "      <td>5.0</td>\n",
              "      <td>0.0</td>\n",
              "      <td>4.0</td>\n",
              "      <td>1.0</td>\n",
              "      <td>2.0</td>\n",
              "      <td>1.0</td>\n",
              "      <td>4.0</td>\n",
              "      <td>1.0</td>\n",
              "      <td>0.0</td>\n",
              "      <td>1.0</td>\n",
              "      <td>0.0</td>\n",
              "      <td>2.0</td>\n",
              "      <td>2.0</td>\n",
              "      <td>3.0</td>\n",
              "      <td>0.0</td>\n",
              "      <td>b'N'</td>\n",
              "    </tr>\n",
              "    <tr>\n",
              "      <th>374821</th>\n",
              "      <td>7.0</td>\n",
              "      <td>0.0</td>\n",
              "      <td>2.0</td>\n",
              "      <td>0.0</td>\n",
              "      <td>2.0</td>\n",
              "      <td>1.0</td>\n",
              "      <td>1.0</td>\n",
              "      <td>1.0</td>\n",
              "      <td>4.0</td>\n",
              "      <td>1.0</td>\n",
              "      <td>0.0</td>\n",
              "      <td>1.0</td>\n",
              "      <td>0.0</td>\n",
              "      <td>1.0</td>\n",
              "      <td>2.0</td>\n",
              "      <td>3.0</td>\n",
              "      <td>0.0</td>\n",
              "      <td>b'N'</td>\n",
              "    </tr>\n",
              "    <tr>\n",
              "      <th>374822</th>\n",
              "      <td>6.0</td>\n",
              "      <td>6.0</td>\n",
              "      <td>6.0</td>\n",
              "      <td>6.0</td>\n",
              "      <td>3.0</td>\n",
              "      <td>4.0</td>\n",
              "      <td>2.0</td>\n",
              "      <td>1.0</td>\n",
              "      <td>4.0</td>\n",
              "      <td>1.0</td>\n",
              "      <td>0.0</td>\n",
              "      <td>1.0</td>\n",
              "      <td>0.0</td>\n",
              "      <td>1.0</td>\n",
              "      <td>7.0</td>\n",
              "      <td>3.0</td>\n",
              "      <td>0.0</td>\n",
              "      <td>b'N'</td>\n",
              "    </tr>\n",
              "  </tbody>\n",
              "</table>\n",
              "<p>374823 rows × 18 columns</p>\n",
              "</div>"
            ],
            "text/plain": [
              "        mcc_cat  mcc_ant_cat  cep_cat  cep_ant_cat  valor_trans_cat  \\\n",
              "0           9.0         22.0      3.0          3.0              6.0   \n",
              "1          22.0         22.0      3.0          3.0              7.0   \n",
              "2          22.0         22.0      3.0          3.0              7.0   \n",
              "3           9.0          0.0      2.0          0.0              4.0   \n",
              "4          15.0          9.0      2.0          2.0              4.0   \n",
              "...         ...          ...      ...          ...              ...   \n",
              "374818      8.0         15.0      6.0          6.0              6.0   \n",
              "374819      6.0          6.0      1.0          1.0              2.0   \n",
              "374820      3.0          0.0      5.0          0.0              4.0   \n",
              "374821      7.0          0.0      2.0          0.0              2.0   \n",
              "374822      6.0          6.0      6.0          6.0              3.0   \n",
              "\n",
              "        valor_trans_ant_cat  pos_entry  lim_cred_cat  bandeira_cat  \\\n",
              "0                       6.0        2.0           6.0           2.0   \n",
              "1                       7.0        2.0           6.0           2.0   \n",
              "2                       7.0        2.0           6.0           2.0   \n",
              "3                       1.0        2.0           4.0           2.0   \n",
              "4                       4.0        2.0           4.0           2.0   \n",
              "...                     ...        ...           ...           ...   \n",
              "374818                  2.0        2.0           3.0           4.0   \n",
              "374819                  2.0        2.0           1.0           4.0   \n",
              "374820                  1.0        2.0           1.0           4.0   \n",
              "374821                  1.0        1.0           1.0           4.0   \n",
              "374822                  4.0        2.0           1.0           4.0   \n",
              "\n",
              "        variante_cat  score_cat  tp_pessoa_cat  trans_nacional_cat  \\\n",
              "0                3.0        0.0            1.0                 0.0   \n",
              "1                3.0        0.0            1.0                 0.0   \n",
              "2                3.0        3.0            1.0                 0.0   \n",
              "3                3.0        0.0            1.0                 0.0   \n",
              "4                3.0        0.0            1.0                 0.0   \n",
              "...              ...        ...            ...                 ...   \n",
              "374818           1.0        0.0            1.0                 0.0   \n",
              "374819           1.0        0.0            1.0                 0.0   \n",
              "374820           1.0        0.0            1.0                 0.0   \n",
              "374821           1.0        0.0            1.0                 0.0   \n",
              "374822           1.0        0.0            1.0                 0.0   \n",
              "\n",
              "        qtde_parc_cat  velocidade_cat  dif_score_cat  trans_limit_cat  \\\n",
              "0                 1.0             7.0            1.0              0.0   \n",
              "1                 1.0             4.0            4.0              0.0   \n",
              "2                 1.0             6.0            5.0              0.0   \n",
              "3                 1.0             2.0            3.0              0.0   \n",
              "4                 1.0             3.0            3.0              0.0   \n",
              "...               ...             ...            ...              ...   \n",
              "374818            1.0             5.0            3.0              0.0   \n",
              "374819            1.0             5.0            3.0              0.0   \n",
              "374820            2.0             2.0            3.0              0.0   \n",
              "374821            1.0             2.0            3.0              0.0   \n",
              "374822            1.0             7.0            3.0              0.0   \n",
              "\n",
              "       flag_fraude_cat  \n",
              "0                 b'N'  \n",
              "1                 b'N'  \n",
              "2                 b'S'  \n",
              "3                 b'N'  \n",
              "4                 b'N'  \n",
              "...                ...  \n",
              "374818            b'N'  \n",
              "374819            b'N'  \n",
              "374820            b'N'  \n",
              "374821            b'N'  \n",
              "374822            b'N'  \n",
              "\n",
              "[374823 rows x 18 columns]"
            ]
          },
          "execution_count": 6,
          "metadata": {},
          "output_type": "execute_result"
        }
      ],
      "source": [
        "df"
      ]
    },
    {
      "cell_type": "code",
      "execution_count": null,
      "metadata": {
        "id": "4ICA6U89zkuO",
        "outputId": "7e7efb52-892c-40be-ecdb-bd8259715c22"
      },
      "outputs": [
        {
          "name": "stdout",
          "output_type": "stream",
          "text": [
            "<class 'pandas.core.frame.DataFrame'>\n",
            "RangeIndex: 374823 entries, 0 to 374822\n",
            "Data columns (total 18 columns):\n",
            " #   Column               Non-Null Count   Dtype  \n",
            "---  ------               --------------   -----  \n",
            " 0   mcc_cat              374823 non-null  float64\n",
            " 1   mcc_ant_cat          374823 non-null  float64\n",
            " 2   cep_cat              374823 non-null  float64\n",
            " 3   cep_ant_cat          374823 non-null  float64\n",
            " 4   valor_trans_cat      374823 non-null  float64\n",
            " 5   valor_trans_ant_cat  374823 non-null  float64\n",
            " 6   pos_entry            374823 non-null  float64\n",
            " 7   lim_cred_cat         374823 non-null  float64\n",
            " 8   bandeira_cat         374823 non-null  float64\n",
            " 9   variante_cat         374823 non-null  float64\n",
            " 10  score_cat            374823 non-null  float64\n",
            " 11  tp_pessoa_cat        374823 non-null  float64\n",
            " 12  trans_nacional_cat   374823 non-null  float64\n",
            " 13  qtde_parc_cat        374823 non-null  float64\n",
            " 14  velocidade_cat       374823 non-null  float64\n",
            " 15  dif_score_cat        374823 non-null  float64\n",
            " 16  trans_limit_cat      374823 non-null  float64\n",
            " 17  flag_fraude_cat      374823 non-null  object \n",
            "dtypes: float64(17), object(1)\n",
            "memory usage: 51.5+ MB\n"
          ]
        }
      ],
      "source": [
        "df.info()"
      ]
    },
    {
      "cell_type": "code",
      "execution_count": null,
      "metadata": {
        "id": "oZHMs3WJzkuO",
        "outputId": "fdbe6fbb-6712-4add-8522-95b2bfd6f179"
      },
      "outputs": [
        {
          "name": "stdout",
          "output_type": "stream",
          "text": [
            "mcc_cat                0\n",
            "mcc_ant_cat            0\n",
            "cep_cat                0\n",
            "cep_ant_cat            0\n",
            "valor_trans_cat        0\n",
            "valor_trans_ant_cat    0\n",
            "pos_entry              0\n",
            "lim_cred_cat           0\n",
            "bandeira_cat           0\n",
            "variante_cat           0\n",
            "score_cat              0\n",
            "tp_pessoa_cat          0\n",
            "trans_nacional_cat     0\n",
            "qtde_parc_cat          0\n",
            "velocidade_cat         0\n",
            "dif_score_cat          0\n",
            "trans_limit_cat        0\n",
            "flag_fraude_cat        0\n",
            "dtype: int64\n"
          ]
        }
      ],
      "source": [
        "# Counting NaN values in all columns\n",
        "nan_count = df.isna().sum()\n",
        "\n",
        "print(nan_count)"
      ]
    },
    {
      "cell_type": "code",
      "execution_count": null,
      "metadata": {
        "id": "bryXb8x6zkuP",
        "outputId": "38d05869-aec3-4cec-f0f8-dae874e7f057"
      },
      "outputs": [
        {
          "data": {
            "text/plain": [
              "b'N'    360792\n",
              "b'S'     14031\n",
              "Name: flag_fraude_cat, dtype: int64"
            ]
          },
          "execution_count": 9,
          "metadata": {},
          "output_type": "execute_result"
        }
      ],
      "source": [
        "df.flag_fraude_cat.value_counts()"
      ]
    },
    {
      "cell_type": "code",
      "execution_count": null,
      "metadata": {
        "id": "_QSF13iNzkuP",
        "outputId": "ed49660e-a3e6-48f1-b9a5-ed1bfebe7aa9"
      },
      "outputs": [
        {
          "data": {
            "text/plain": [
              "array([0, 1])"
            ]
          },
          "execution_count": 10,
          "metadata": {},
          "output_type": "execute_result"
        }
      ],
      "source": [
        "#label encoding\n",
        "#fraud = 1\n",
        "#non-fraud = 0\n",
        "\n",
        "from sklearn import preprocessing\n",
        "\n",
        "label_encoder = preprocessing.LabelEncoder()\n",
        "df['flag_fraude_cat']= label_encoder.fit_transform(df['flag_fraude_cat'])\n",
        "df['flag_fraude_cat'].unique()"
      ]
    },
    {
      "cell_type": "markdown",
      "metadata": {
        "id": "vPy0LnmyzkuP"
      },
      "source": [
        "The autocorrelation function (ACF) assesses the correlation between observations in a time series for a set of lags.\n",
        "The ACF for time series y is given by: Corr (yt,yt−k), k=1,2,..."
      ]
    },
    {
      "cell_type": "code",
      "execution_count": null,
      "metadata": {
        "id": "Dr9r23rdzkuQ",
        "outputId": "cdff433d-6ae7-4ce9-fd6a-124d60a386d9"
      },
      "outputs": [
        {
          "data": {
            "image/png": "[encoded data removed]",
            "text/plain": [
              "<Figure size 640x480 with 1 Axes>"
            ]
          },
          "metadata": {},
          "output_type": "display_data"
        }
      ],
      "source": [
        "import matplotlib\n",
        "import matplotlib.pyplot as plt\n",
        "from statsmodels.graphics.tsaplots import plot_pacf\n",
        "from statsmodels.graphics.tsaplots import plot_acf\n",
        "\n",
        "plot_acf(df['flag_fraude_cat'], lags=40)\n",
        "plt.show()"
      ]
    },
    {
      "cell_type": "code",
      "execution_count": null,
      "metadata": {
        "id": "Pa0IVarvzkuQ",
        "outputId": "9b340c06-361b-481f-f6a9-ab7f7bb8c513"
      },
      "outputs": [
        {
          "name": "stdout",
          "output_type": "stream",
          "text": [
            "class 0: (360792, 18)\n",
            "class 1: (14031, 18)\n",
            "Only 4% of the transactions are fraudulent.\n"
          ]
        }
      ],
      "source": [
        "# class count\n",
        "class_count_0, class_count_1 = df['flag_fraude_cat'].value_counts()\n",
        "# Separate class\n",
        "class_0 = df[df['flag_fraude_cat'] == 0]\n",
        "class_1 = df[df['flag_fraude_cat'] == 1]\n",
        "# print the shape of the class\n",
        "print('class 0:', class_0.shape)\n",
        "print('class 1:', class_1.shape)\n",
        "import math\n",
        "s =  \"Only \" + str(math.ceil(100*class_1.shape[0]/class_0.shape[0])) + \"%\" + \" of the transactions are fraudulent.\"\n",
        "print(s)"
      ]
    },
    {
      "cell_type": "code",
      "execution_count": null,
      "metadata": {
        "id": "_Oc17k2kzkuR",
        "outputId": "538515dd-437b-4726-80b3-905240ded2f3"
      },
      "outputs": [
        {
          "data": {
            "text/plain": [
              "array([[<Axes: title={'center': 'flag_fraude_cat'}>]], dtype=object)"
            ]
          },
          "execution_count": 13,
          "metadata": {},
          "output_type": "execute_result"
        },
        {
          "data": {
            "image/png": "[encoded data removed]",
            "text/plain": [
              "<Figure size 640x480 with 1 Axes>"
            ]
          },
          "metadata": {},
          "output_type": "display_data"
        }
      ],
      "source": [
        "df.hist(column='flag_fraude_cat')"
      ]
    },
    {
      "cell_type": "code",
      "execution_count": null,
      "metadata": {
        "id": "YEuRE5i9zkuR",
        "outputId": "80fe64c2-deda-424d-9512-21c97cc2c3fe"
      },
      "outputs": [
        {
          "data": {
            "application/vnd.plotly.v1+json": {
              "config": {
                "plotlyServerURL": "https://plot.ly"
              },
              "data": [
                {
                  "domain": {
                    "x": [
                      0,
                      1
                    ],
                    "y": [
                      0,
                      1
                    ]
                  },
                  "hovertemplate": "label=%{label}<br>value=%{value}<extra></extra>",
                  "labels": [
                    "Non-Fraud",
                    "Fraud"
                  ],
                  "legendgroup": "",
                  "name": "",
                  "showlegend": true,
                  "type": "pie",
                  "values": [
                    360792,
                    14031
                  ]
                }
              ],
              "layout": {
                "height": 400,
                "legend": {
                  "tracegroupgap": 0
                },
                "piecolorway": [
                  "skyblue",
                  "black"
                ],
                "template": {
                  "data": {
                    "bar": [
                      {
                        "error_x": {
                          "color": "#2a3f5f"
                        },
                        "error_y": {
                          "color": "#2a3f5f"
                        },
                        "marker": {
                          "line": {
                            "color": "#E5ECF6",
                            "width": 0.5
                          },
                          "pattern": {
                            "fillmode": "overlay",
                            "size": 10,
                            "solidity": 0.2
                          }
                        },
                        "type": "bar"
                      }
                    ],
                    "barpolar": [
                      {
                        "marker": {
                          "line": {
                            "color": "#E5ECF6",
                            "width": 0.5
                          },
                          "pattern": {
                            "fillmode": "overlay",
                            "size": 10,
                            "solidity": 0.2
                          }
                        },
                        "type": "barpolar"
                      }
                    ],
                    "carpet": [
                      {
                        "aaxis": {
                          "endlinecolor": "#2a3f5f",
                          "gridcolor": "white",
                          "linecolor": "white",
                          "minorgridcolor": "white",
                          "startlinecolor": "#2a3f5f"
                        },
                        "baxis": {
                          "endlinecolor": "#2a3f5f",
                          "gridcolor": "white",
                          "linecolor": "white",
                          "minorgridcolor": "white",
                          "startlinecolor": "#2a3f5f"
                        },
                        "type": "carpet"
                      }
                    ],
                    "choropleth": [
                      {
                        "colorbar": {
                          "outlinewidth": 0,
                          "ticks": ""
                        },
                        "type": "choropleth"
                      }
                    ],
                    "contour": [
                      {
                        "colorbar": {
                          "outlinewidth": 0,
                          "ticks": ""
                        },
                        "colorscale": [
                          [
                            0,
                            "#0d0887"
                          ],
                          [
                            0.1111111111111111,
                            "#46039f"
                          ],
                          [
                            0.2222222222222222,
                            "#7201a8"
                          ],
                          [
                            0.3333333333333333,
                            "#9c179e"
                          ],
                          [
                            0.4444444444444444,
                            "#bd3786"
                          ],
                          [
                            0.5555555555555556,
                            "#d8576b"
                          ],
                          [
                            0.6666666666666666,
                            "#ed7953"
                          ],
                          [
                            0.7777777777777778,
                            "#fb9f3a"
                          ],
                          [
                            0.8888888888888888,
                            "#fdca26"
                          ],
                          [
                            1,
                            "#f0f921"
                          ]
                        ],
                        "type": "contour"
                      }
                    ],
                    "contourcarpet": [
                      {
                        "colorbar": {
                          "outlinewidth": 0,
                          "ticks": ""
                        },
                        "type": "contourcarpet"
                      }
                    ],
                    "heatmap": [
                      {
                        "colorbar": {
                          "outlinewidth": 0,
                          "ticks": ""
                        },
                        "colorscale": [
                          [
                            0,
                            "#0d0887"
                          ],
                          [
                            0.1111111111111111,
                            "#46039f"
                          ],
                          [
                            0.2222222222222222,
                            "#7201a8"
                          ],
                          [
                            0.3333333333333333,
                            "#9c179e"
                          ],
                          [
                            0.4444444444444444,
                            "#bd3786"
                          ],
                          [
                            0.5555555555555556,
                            "#d8576b"
                          ],
                          [
                            0.6666666666666666,
                            "#ed7953"
                          ],
                          [
                            0.7777777777777778,
                            "#fb9f3a"
                          ],
                          [
                            0.8888888888888888,
                            "#fdca26"
                          ],
                          [
                            1,
                            "#f0f921"
                          ]
                        ],
                        "type": "heatmap"
                      }
                    ],
                    "heatmapgl": [
                      {
                        "colorbar": {
                          "outlinewidth": 0,
                          "ticks": ""
                        },
                        "colorscale": [
                          [
                            0,
                            "#0d0887"
                          ],
                          [
                            0.1111111111111111,
                            "#46039f"
                          ],
                          [
                            0.2222222222222222,
                            "#7201a8"
                          ],
                          [
                            0.3333333333333333,
                            "#9c179e"
                          ],
                          [
                            0.4444444444444444,
                            "#bd3786"
                          ],
                          [
                            0.5555555555555556,
                            "#d8576b"
                          ],
                          [
                            0.6666666666666666,
                            "#ed7953"
                          ],
                          [
                            0.7777777777777778,
                            "#fb9f3a"
                          ],
                          [
                            0.8888888888888888,
                            "#fdca26"
                          ],
                          [
                            1,
                            "#f0f921"
                          ]
                        ],
                        "type": "heatmapgl"
                      }
                    ],
                    "histogram": [
                      {
                        "marker": {
                          "pattern": {
                            "fillmode": "overlay",
                            "size": 10,
                            "solidity": 0.2
                          }
                        },
                        "type": "histogram"
                      }
                    ],
                    "histogram2d": [
                      {
                        "colorbar": {
                          "outlinewidth": 0,
                          "ticks": ""
                        },
                        "colorscale": [
                          [
                            0,
                            "#0d0887"
                          ],
                          [
                            0.1111111111111111,
                            "#46039f"
                          ],
                          [
                            0.2222222222222222,
                            "#7201a8"
                          ],
                          [
                            0.3333333333333333,
                            "#9c179e"
                          ],
                          [
                            0.4444444444444444,
                            "#bd3786"
                          ],
                          [
                            0.5555555555555556,
                            "#d8576b"
                          ],
                          [
                            0.6666666666666666,
                            "#ed7953"
                          ],
                          [
                            0.7777777777777778,
                            "#fb9f3a"
                          ],
                          [
                            0.8888888888888888,
                            "#fdca26"
                          ],
                          [
                            1,
                            "#f0f921"
                          ]
                        ],
                        "type": "histogram2d"
                      }
                    ],
                    "histogram2dcontour": [
                      {
                        "colorbar": {
                          "outlinewidth": 0,
                          "ticks": ""
                        },
                        "colorscale": [
                          [
                            0,
                            "#0d0887"
                          ],
                          [
                            0.1111111111111111,
                            "#46039f"
                          ],
                          [
                            0.2222222222222222,
                            "#7201a8"
                          ],
                          [
                            0.3333333333333333,
                            "#9c179e"
                          ],
                          [
                            0.4444444444444444,
                            "#bd3786"
                          ],
                          [
                            0.5555555555555556,
                            "#d8576b"
                          ],
                          [
                            0.6666666666666666,
                            "#ed7953"
                          ],
                          [
                            0.7777777777777778,
                            "#fb9f3a"
                          ],
                          [
                            0.8888888888888888,
                            "#fdca26"
                          ],
                          [
                            1,
                            "#f0f921"
                          ]
                        ],
                        "type": "histogram2dcontour"
                      }
                    ],
                    "mesh3d": [
                      {
                        "colorbar": {
                          "outlinewidth": 0,
                          "ticks": ""
                        },
                        "type": "mesh3d"
                      }
                    ],
                    "parcoords": [
                      {
                        "line": {
                          "colorbar": {
                            "outlinewidth": 0,
                            "ticks": ""
                          }
                        },
                        "type": "parcoords"
                      }
                    ],
                    "pie": [
                      {
                        "automargin": true,
                        "type": "pie"
                      }
                    ],
                    "scatter": [
                      {
                        "fillpattern": {
                          "fillmode": "overlay",
                          "size": 10,
                          "solidity": 0.2
                        },
                        "type": "scatter"
                      }
                    ],
                    "scatter3d": [
                      {
                        "line": {
                          "colorbar": {
                            "outlinewidth": 0,
                            "ticks": ""
                          }
                        },
                        "marker": {
                          "colorbar": {
                            "outlinewidth": 0,
                            "ticks": ""
                          }
                        },
                        "type": "scatter3d"
                      }
                    ],
                    "scattercarpet": [
                      {
                        "marker": {
                          "colorbar": {
                            "outlinewidth": 0,
                            "ticks": ""
                          }
                        },
                        "type": "scattercarpet"
                      }
                    ],
                    "scattergeo": [
                      {
                        "marker": {
                          "colorbar": {
                            "outlinewidth": 0,
                            "ticks": ""
                          }
                        },
                        "type": "scattergeo"
                      }
                    ],
                    "scattergl": [
                      {
                        "marker": {
                          "colorbar": {
                            "outlinewidth": 0,
                            "ticks": ""
                          }
                        },
                        "type": "scattergl"
                      }
                    ],
                    "scattermapbox": [
                      {
                        "marker": {
                          "colorbar": {
                            "outlinewidth": 0,
                            "ticks": ""
                          }
                        },
                        "type": "scattermapbox"
                      }
                    ],
                    "scatterpolar": [
                      {
                        "marker": {
                          "colorbar": {
                            "outlinewidth": 0,
                            "ticks": ""
                          }
                        },
                        "type": "scatterpolar"
                      }
                    ],
                    "scatterpolargl": [
                      {
                        "marker": {
                          "colorbar": {
                            "outlinewidth": 0,
                            "ticks": ""
                          }
                        },
                        "type": "scatterpolargl"
                      }
                    ],
                    "scatterternary": [
                      {
                        "marker": {
                          "colorbar": {
                            "outlinewidth": 0,
                            "ticks": ""
                          }
                        },
                        "type": "scatterternary"
                      }
                    ],
                    "surface": [
                      {
                        "colorbar": {
                          "outlinewidth": 0,
                          "ticks": ""
                        },
                        "colorscale": [
                          [
                            0,
                            "#0d0887"
                          ],
                          [
                            0.1111111111111111,
                            "#46039f"
                          ],
                          [
                            0.2222222222222222,
                            "#7201a8"
                          ],
                          [
                            0.3333333333333333,
                            "#9c179e"
                          ],
                          [
                            0.4444444444444444,
                            "#bd3786"
                          ],
                          [
                            0.5555555555555556,
                            "#d8576b"
                          ],
                          [
                            0.6666666666666666,
                            "#ed7953"
                          ],
                          [
                            0.7777777777777778,
                            "#fb9f3a"
                          ],
                          [
                            0.8888888888888888,
                            "#fdca26"
                          ],
                          [
                            1,
                            "#f0f921"
                          ]
                        ],
                        "type": "surface"
                      }
                    ],
                    "table": [
                      {
                        "cells": {
                          "fill": {
                            "color": "#EBF0F8"
                          },
                          "line": {
                            "color": "white"
                          }
                        },
                        "header": {
                          "fill": {
                            "color": "#C8D4E3"
                          },
                          "line": {
                            "color": "white"
                          }
                        },
                        "type": "table"
                      }
                    ]
                  },
                  "layout": {
                    "annotationdefaults": {
                      "arrowcolor": "#2a3f5f",
                      "arrowhead": 0,
                      "arrowwidth": 1
                    },
                    "autotypenumbers": "strict",
                    "coloraxis": {
                      "colorbar": {
                        "outlinewidth": 0,
                        "ticks": ""
                      }
                    },
                    "colorscale": {
                      "diverging": [
                        [
                          0,
                          "#8e0152"
                        ],
                        [
                          0.1,
                          "#c51b7d"
                        ],
                        [
                          0.2,
                          "#de77ae"
                        ],
                        [
                          0.3,
                          "#f1b6da"
                        ],
                        [
                          0.4,
                          "#fde0ef"
                        ],
                        [
                          0.5,
                          "#f7f7f7"
                        ],
                        [
                          0.6,
                          "#e6f5d0"
                        ],
                        [
                          0.7,
                          "#b8e186"
                        ],
                        [
                          0.8,
                          "#7fbc41"
                        ],
                        [
                          0.9,
                          "#4d9221"
                        ],
                        [
                          1,
                          "#276419"
                        ]
                      ],
                      "sequential": [
                        [
                          0,
                          "#0d0887"
                        ],
                        [
                          0.1111111111111111,
                          "#46039f"
                        ],
                        [
                          0.2222222222222222,
                          "#7201a8"
                        ],
                        [
                          0.3333333333333333,
                          "#9c179e"
                        ],
                        [
                          0.4444444444444444,
                          "#bd3786"
                        ],
                        [
                          0.5555555555555556,
                          "#d8576b"
                        ],
                        [
                          0.6666666666666666,
                          "#ed7953"
                        ],
                        [
                          0.7777777777777778,
                          "#fb9f3a"
                        ],
                        [
                          0.8888888888888888,
                          "#fdca26"
                        ],
                        [
                          1,
                          "#f0f921"
                        ]
                      ],
                      "sequentialminus": [
                        [
                          0,
                          "#0d0887"
                        ],
                        [
                          0.1111111111111111,
                          "#46039f"
                        ],
                        [
                          0.2222222222222222,
                          "#7201a8"
                        ],
                        [
                          0.3333333333333333,
                          "#9c179e"
                        ],
                        [
                          0.4444444444444444,
                          "#bd3786"
                        ],
                        [
                          0.5555555555555556,
                          "#d8576b"
                        ],
                        [
                          0.6666666666666666,
                          "#ed7953"
                        ],
                        [
                          0.7777777777777778,
                          "#fb9f3a"
                        ],
                        [
                          0.8888888888888888,
                          "#fdca26"
                        ],
                        [
                          1,
                          "#f0f921"
                        ]
                      ]
                    },
                    "colorway": [
                      "#636efa",
                      "#EF553B",
                      "#00cc96",
                      "#ab63fa",
                      "#FFA15A",
                      "#19d3f3",
                      "#FF6692",
                      "#B6E880",
                      "#FF97FF",
                      "#FECB52"
                    ],
                    "font": {
                      "color": "#2a3f5f"
                    },
                    "geo": {
                      "bgcolor": "white",
                      "lakecolor": "white",
                      "landcolor": "#E5ECF6",
                      "showlakes": true,
                      "showland": true,
                      "subunitcolor": "white"
                    },
                    "hoverlabel": {
                      "align": "left"
                    },
                    "hovermode": "closest",
                    "mapbox": {
                      "style": "light"
                    },
                    "paper_bgcolor": "white",
                    "plot_bgcolor": "#E5ECF6",
                    "polar": {
                      "angularaxis": {
                        "gridcolor": "white",
                        "linecolor": "white",
                        "ticks": ""
                      },
                      "bgcolor": "#E5ECF6",
                      "radialaxis": {
                        "gridcolor": "white",
                        "linecolor": "white",
                        "ticks": ""
                      }
                    },
                    "scene": {
                      "xaxis": {
                        "backgroundcolor": "#E5ECF6",
                        "gridcolor": "white",
                        "gridwidth": 2,
                        "linecolor": "white",
                        "showbackground": true,
                        "ticks": "",
                        "zerolinecolor": "white"
                      },
                      "yaxis": {
                        "backgroundcolor": "#E5ECF6",
                        "gridcolor": "white",
                        "gridwidth": 2,
                        "linecolor": "white",
                        "showbackground": true,
                        "ticks": "",
                        "zerolinecolor": "white"
                      },
                      "zaxis": {
                        "backgroundcolor": "#E5ECF6",
                        "gridcolor": "white",
                        "gridwidth": 2,
                        "linecolor": "white",
                        "showbackground": true,
                        "ticks": "",
                        "zerolinecolor": "white"
                      }
                    },
                    "shapedefaults": {
                      "line": {
                        "color": "#2a3f5f"
                      }
                    },
                    "ternary": {
                      "aaxis": {
                        "gridcolor": "white",
                        "linecolor": "white",
                        "ticks": ""
                      },
                      "baxis": {
                        "gridcolor": "white",
                        "linecolor": "white",
                        "ticks": ""
                      },
                      "bgcolor": "#E5ECF6",
                      "caxis": {
                        "gridcolor": "white",
                        "linecolor": "white",
                        "ticks": ""
                      }
                    },
                    "title": {
                      "x": 0.05
                    },
                    "xaxis": {
                      "automargin": true,
                      "gridcolor": "white",
                      "linecolor": "white",
                      "ticks": "",
                      "title": {
                        "standoff": 15
                      },
                      "zerolinecolor": "white",
                      "zerolinewidth": 2
                    },
                    "yaxis": {
                      "automargin": true,
                      "gridcolor": "white",
                      "linecolor": "white",
                      "ticks": "",
                      "title": {
                        "standoff": 15
                      },
                      "zerolinecolor": "white",
                      "zerolinewidth": 2
                    }
                  }
                },
                "title": {
                  "text": "Fraud vs Non-Fraud transactions"
                },
                "width": 700
              }
            }
          },
          "metadata": {},
          "output_type": "display_data"
        }
      ],
      "source": [
        "import plotly.express as px\n",
        "\n",
        "labels=[\"Non-Fraud\",\"Fraud\"]\n",
        "fig = px.pie(values=df['flag_fraude_cat'].value_counts(), names=labels , width=700, height=400, color_discrete_sequence=[\"skyblue\",\"black\"]\n",
        "             ,title=\"Fraud vs Non-Fraud transactions\")\n",
        "fig.show()"
      ]
    },
    {
      "cell_type": "code",
      "execution_count": null,
      "metadata": {
        "id": "B2utCRuMzkuR"
      },
      "outputs": [],
      "source": [
        "y= df['flag_fraude_cat']\n",
        "X= df.drop([\"flag_fraude_cat\"], axis = 1)"
      ]
    },
    {
      "cell_type": "code",
      "execution_count": null,
      "metadata": {
        "id": "MTeXAdrfzkuS"
      },
      "outputs": [],
      "source": [
        "#PCA\n",
        "\n",
        "from sklearn.decomposition import PCA\n",
        "pca = PCA(n_components=3)\n",
        "X = pca.fit_transform(X)\n",
        "\n",
        "X = pd.DataFrame(X, columns=([\"col1\",\"col2\", \"col3\"]))"
      ]
    },
    {
      "cell_type": "code",
      "execution_count": null,
      "metadata": {
        "id": "ZbxRqzEAzkuS",
        "outputId": "13d34019-0b87-43cc-db15-f6c45b9bd991"
      },
      "outputs": [
        {
          "data": {
            "image/png": "[encoded data removed]",
            "text/plain": [
              "<Figure size 1000x800 with 1 Axes>"
            ]
          },
          "metadata": {},
          "output_type": "display_data"
        }
      ],
      "source": [
        "#A 3D Projection Of Data In The Reduced Dimension\n",
        "import matplotlib\n",
        "import matplotlib.pyplot as plt\n",
        "\n",
        "z_1 =X[\"col1\"]\n",
        "z_2 =X[\"col2\"]\n",
        "z_3 =X[\"col3\"]\n",
        "#To plot\n",
        "fig = plt.figure(figsize=(10,8))\n",
        "ax = fig.add_subplot(111, projection=\"3d\")\n",
        "ax.scatter(z_1,z_2,z_3, s=40, c=y , marker=\"o\", cmap = \"plasma\" )\n",
        "ax.set_title(\"A 3D Projection Of Data In The Reduced Dimension\")\n",
        "plt.show()"
      ]
    },
    {
      "cell_type": "code",
      "execution_count": null,
      "metadata": {
        "id": "2Ju2CcvwzkuS",
        "outputId": "ec6c81b2-d0c8-4c04-b353-8eb8a5e0589f"
      },
      "outputs": [
        {
          "data": {
            "image/png": "[encoded data removed]",
            "text/plain": [
              "<Figure size 1000x800 with 1 Axes>"
            ]
          },
          "metadata": {},
          "output_type": "display_data"
        }
      ],
      "source": [
        "y= df['flag_fraude_cat']\n",
        "X= df.drop([\"flag_fraude_cat\"], axis = 1)\n",
        "\n",
        "#PCA\n",
        "from sklearn.decomposition import PCA\n",
        "pca = PCA(n_components=2)\n",
        "X = pca.fit_transform(X)\n",
        "\n",
        "X = pd.DataFrame(X, columns=([\"col1\",\"col2\"]))\n",
        "\n",
        "#A 3D Projection Of Data In The Reduced Dimension\n",
        "import matplotlib\n",
        "import matplotlib.pyplot as plt\n",
        "z_1 =X[\"col1\"]\n",
        "z_2 =X[\"col2\"]\n",
        "#To plot\n",
        "fig = plt.figure(figsize=(10,8))\n",
        "ax = fig.add_subplot(111)\n",
        "ax.scatter(z_1,z_2, s=40, c=y , marker=\"o\", cmap = \"plasma\" )\n",
        "ax.set_title(\"A 2D Projection Of Data In The Reduced Dimension\")\n",
        "plt.show()"
      ]
    },
    {
      "cell_type": "code",
      "execution_count": null,
      "metadata": {
        "id": "6VeF1kDDzkuS",
        "outputId": "56135c4f-fb62-47c7-9b98-681aa8bb3fb8"
      },
      "outputs": [
        {
          "name": "stdout",
          "output_type": "stream",
          "text": [
            "total class of 1 and0: 0    14031\n",
            "1    14031\n",
            "Name: flag_fraude_cat, dtype: int64\n"
          ]
        },
        {
          "data": {
            "text/plain": [
              "<Axes: title={'center': 'count (target)'}>"
            ]
          },
          "execution_count": 19,
          "metadata": {},
          "output_type": "execute_result"
        },
        {
          "data": {
            "image/png": "[encoded data removed]",
            "text/plain": [
              "<Figure size 640x480 with 1 Axes>"
            ]
          },
          "metadata": {},
          "output_type": "display_data"
        }
      ],
      "source": [
        "#Under Sampling\n",
        "\n",
        "class_0_under = class_0.sample(class_count_1)\n",
        "\n",
        "test_under = pd.concat([class_0_under, class_1], axis=0)\n",
        "\n",
        "print(\"total class of 1 and0:\",test_under['flag_fraude_cat'].value_counts())\n",
        "# plot the count after under-sampeling\n",
        "test_under['flag_fraude_cat'].value_counts().plot(kind='bar', title='count (target)')"
      ]
    },
    {
      "cell_type": "code",
      "execution_count": null,
      "metadata": {
        "id": "VmF7IrE4zkuS",
        "outputId": "3ab35c58-e6cb-4603-bbd7-34504d866abc"
      },
      "outputs": [
        {
          "name": "stdout",
          "output_type": "stream",
          "text": [
            "total class of 1 and 0: 0    14031\n",
            "1    14031\n",
            "Name: flag_fraude_cat, dtype: int64\n"
          ]
        },
        {
          "data": {
            "text/plain": [
              "<Axes: title={'center': 'count (target)'}>"
            ]
          },
          "execution_count": 20,
          "metadata": {},
          "output_type": "execute_result"
        },
        {
          "data": {
            "image/png": "[encoded data removed]",
            "text/plain": [
              "<Figure size 640x480 with 1 Axes>"
            ]
          },
          "metadata": {},
          "output_type": "display_data"
        }
      ],
      "source": [
        "#Over Sampling\n",
        "\n",
        "class_1_over = class_1.sample(class_count_0, replace=True)\n",
        "test_over = pd.concat([class_1_over, class_0], axis=0)\n",
        "\n",
        "print(\"total class of 1 and 0:\",test_under['flag_fraude_cat'].value_counts())\n",
        "# plot the count after under-sampeling\n",
        "test_over['flag_fraude_cat'].value_counts().plot(kind='bar', title='count (target)')\n"
      ]
    },
    {
      "cell_type": "markdown",
      "metadata": {
        "id": "CdmqLIfJzkuS"
      },
      "source": [
        "Statistical Approaches"
      ]
    },
    {
      "cell_type": "markdown",
      "metadata": {
        "id": "Ijc_-FDozkuT"
      },
      "source": [
        "    Parametric Methods"
      ]
    },
    {
      "cell_type": "markdown",
      "metadata": {
        "id": "4xJXEoP_zkuT"
      },
      "source": [
        "        Multivariate outlier detection using the Mahalanobis distance"
      ]
    },
    {
      "cell_type": "code",
      "execution_count": null,
      "metadata": {
        "id": "FyVVre1kzkuT"
      },
      "outputs": [],
      "source": [
        "report = []"
      ]
    },
    {
      "cell_type": "code",
      "execution_count": null,
      "metadata": {
        "id": "CDpayOJGzkuT"
      },
      "outputs": [],
      "source": [
        "def mahalanobis(x, data, cov):\n",
        "    import numpy as np\n",
        "    x_mu = x - np.mean(data)\n",
        "    inv_covmat = np.linalg.inv(cov)\n",
        "    left = np.dot(x_mu, inv_covmat)\n",
        "    mahal = np.dot(left, x_mu.T)\n",
        "    return mahal.diagonal()\n",
        "\n",
        "def z_score_outlier_detection(var):\n",
        "    threshold = 3\n",
        "    var_mean = np.mean(var)\n",
        "    var_sd = np.std(var)\n",
        "    z_scores = [(i - var_mean)/var_mean for i in var]\n",
        "    return np.where(np.abs(z_scores) > threshold)"
      ]
    },
    {
      "cell_type": "code",
      "execution_count": null,
      "metadata": {
        "id": "lxu87Ym-zkuT",
        "outputId": "bbcb6e72-4913-4275-e990-fc28840581bc"
      },
      "outputs": [
        {
          "name": "stderr",
          "output_type": "stream",
          "text": [
            "c:\\Users\\QOMASUS.COM\\anaconda3\\Lib\\site-packages\\numpy\\core\\fromnumeric.py:3462: FutureWarning:\n",
            "\n",
            "In a future version, DataFrame.mean(axis=None) will return a scalar mean over the entire DataFrame. To retain the old behavior, use 'frame.mean(axis=0)' or just 'frame.mean()'\n",
            "\n"
          ]
        },
        {
          "name": "stdout",
          "output_type": "stream",
          "text": [
            "F-2 Score:\n",
            "0.11005307524196067\n",
            "Recall:\n",
            "0.10165825522710886\n",
            "Precision:\n",
            "0.16433566433566432\n",
            "Accuracy:\n",
            "0.9476281948668694\n"
          ]
        }
      ],
      "source": [
        "#Sampling\n",
        "sample_df = df.sample(frac=1/10)\n",
        "y = sample_df['flag_fraude_cat']\n",
        "sample_df = sample_df.drop(['flag_fraude_cat'],axis = 1)\n",
        "import numpy as np\n",
        "# Calculate the mean\n",
        "mean = np.mean(sample_df,axis = 0)\n",
        "# Subtract mean from the data\n",
        "datawithoutmean = sample_df - mean\n",
        "# Calculate covariance (C=X^T.X/(n-1))\n",
        "cova = np.dot(np.transpose(datawithoutmean), datawithoutmean)/(len(datawithoutmean) - 1)\n",
        "\n",
        "sample_df['mahalanobis'] = mahalanobis(x=sample_df.iloc[:,0:len(sample_df.columns)], data=sample_df, cov= cova)\n",
        "y_pred = []\n",
        "for i in range(0,sample_df.shape[0]):\n",
        "    y_pred.append(0 )\n",
        "for i in list(z_score_outlier_detection(sample_df[\"mahalanobis\"]))[0]:\n",
        "    y_pred[i] = 1\n",
        "\n",
        "\n",
        "d = []\n",
        "d = list(eval(y,y_pred))\n",
        "d.insert(0,\" Parametric with Mahalanobis distance\")\n",
        "report.append(d)"
      ]
    },
    {
      "cell_type": "markdown",
      "metadata": {
        "id": "8ahjzaXFzkuT"
      },
      "source": [
        "Proximity-Based Approaches"
      ]
    },
    {
      "cell_type": "markdown",
      "metadata": {
        "id": "BeAO3420zkuT"
      },
      "source": [
        "    Density-Based Outlier Detection"
      ]
    },
    {
      "cell_type": "markdown",
      "metadata": {
        "id": "6YDuUwYwzkuT"
      },
      "source": [
        "        LOF"
      ]
    },
    {
      "cell_type": "code",
      "execution_count": null,
      "metadata": {
        "id": "Mo4BI-QJzkuT",
        "outputId": "33e2057c-7321-415f-8888-161524afeecb"
      },
      "outputs": [
        {
          "name": "stdout",
          "output_type": "stream",
          "text": [
            "F-2 Score:\n",
            "0.006093845216331505\n",
            "Recall:\n",
            "0.006414368184733804\n",
            "Precision:\n",
            "0.005078720162519045\n",
            "Accuracy:\n",
            "0.9157682426105122\n"
          ]
        }
      ],
      "source": [
        "import numpy as np\n",
        "from sklearn.neighbors import LocalOutlierFactor\n",
        "\n",
        "y = df['flag_fraude_cat']\n",
        "X = df.drop(['flag_fraude_cat'],axis = 1)\n",
        "\n",
        "estimator = LocalOutlierFactor()\n",
        "estimator.fit(X)\n",
        "outlier_scores = estimator.negative_outlier_factor_\n",
        "outlier_scores.tolist\n",
        "outlier_scores_df = pd.DataFrame(outlier_scores)\n",
        "l = outlier_scores_df[0].tolist()\n",
        "l.sort()\n",
        "l_14031 = l[14030]\n",
        "\n",
        "y_pred = []\n",
        "for i in range(0,df.shape[0]):\n",
        "    y_pred.append(0)\n",
        "for i in range(0,outlier_scores_df.shape[0]):\n",
        "    if outlier_scores_df.loc[i][0] <= l_14031:\n",
        "        y_pred[i] = 1\n",
        "\n",
        "d = []\n",
        "d = list(eval(y,y_pred))\n",
        "d.insert(0,\"LOF\")\n",
        "report.append(d)"
      ]
    },
    {
      "cell_type": "markdown",
      "metadata": {
        "id": "8lDk2WtOzkuU"
      },
      "source": [
        "Clustering-Based Approaches"
      ]
    },
    {
      "cell_type": "markdown",
      "metadata": {
        "id": "sQJf76MyzkuU"
      },
      "source": [
        "    using distance to the closest cluster"
      ]
    },
    {
      "cell_type": "markdown",
      "metadata": {
        "id": "IGVEGx1ZzkuU"
      },
      "source": [
        "        K-means"
      ]
    },
    {
      "cell_type": "code",
      "execution_count": null,
      "metadata": {
        "id": "vpNnR0pezkuU"
      },
      "outputs": [],
      "source": [
        "#K_Means\n",
        "def k_means(X,k):\n",
        "  import sklearn\n",
        "  from sklearn.cluster import KMeans\n",
        "  import numpy as np\n",
        "\n",
        "  kmeans = KMeans(n_clusters=k, random_state=0)\n",
        "  kmeans.fit(X)\n",
        "  result_data = X\n",
        "  result_data[\"Clusters\"] = kmeans.labels_\n",
        "  return result_data\n"
      ]
    },
    {
      "cell_type": "code",
      "execution_count": null,
      "metadata": {
        "id": "IKUChgTFzkuU",
        "outputId": "2bec6392-2326-415e-bf41-3f319b88eaf9"
      },
      "outputs": [
        {
          "name": "stderr",
          "output_type": "stream",
          "text": [
            "c:\\Users\\QOMASUS.COM\\anaconda3\\Lib\\site-packages\\sklearn\\cluster\\_kmeans.py:870: FutureWarning:\n",
            "\n",
            "The default value of `n_init` will change from 10 to 'auto' in 1.4. Set the value of `n_init` explicitly to suppress the warning\n",
            "\n"
          ]
        },
        {
          "name": "stdout",
          "output_type": "stream",
          "text": [
            "F-2 Score:\n",
            "0.184733839251094\n",
            "Recall:\n",
            "0.4278383579217447\n",
            "Precision:\n",
            "0.056444105949056446\n",
            "Accuracy:\n",
            "0.710855523807237\n"
          ]
        }
      ],
      "source": [
        "y = df['flag_fraude_cat']\n",
        "X = df.drop(['flag_fraude_cat'],axis = 1)\n",
        "\n",
        "result_data = k_means(X,2)\n",
        "\n",
        "d = []\n",
        "d = list(eval(y,result_data[\"Clusters\"]))\n",
        "d.insert(0,\"K-means\")\n",
        "report.append(d)"
      ]
    },
    {
      "cell_type": "markdown",
      "metadata": {
        "id": "a2UmWhBnzkuU"
      },
      "source": [
        "Classification-Based Approaches"
      ]
    },
    {
      "cell_type": "markdown",
      "metadata": {
        "id": "vKGSabT7zkuU"
      },
      "source": [
        "| Window Sliding |"
      ]
    },
    {
      "cell_type": "code",
      "execution_count": null,
      "metadata": {
        "id": "7TJz1tigzkuV",
        "outputId": "0ad06ea8-0e77-4333-c232-5ba027f6e57a"
      },
      "outputs": [
        {
          "data": {
            "text/plain": [
              "299575"
            ]
          },
          "execution_count": 27,
          "metadata": {},
          "output_type": "execute_result"
        }
      ],
      "source": [
        "import math\n",
        "\n",
        "n = len(df_list)\n",
        "m = math.floor(0.7*n)\n",
        "\n",
        "train_df_list = df_list[0:12]\n",
        "test_df_list = df_list[12:18]\n",
        "\n",
        "train_df  = pd.concat(train_df_list, ignore_index=True)\n",
        "test_df   = pd.concat(test_df_list, ignore_index=True)\n",
        "\n",
        "test_size = df.shape[0] - test_df.shape[0] + 1\n",
        "test_size\n",
        "\n",
        "\n"
      ]
    },
    {
      "cell_type": "code",
      "execution_count": null,
      "metadata": {
        "id": "zPBD67k5zkug"
      },
      "outputs": [],
      "source": [
        "#label encoding\n",
        "#fraud = 1\n",
        "#non-fraud = 0\n",
        "\n",
        "from sklearn import preprocessing\n",
        "\n",
        "label_encoder = preprocessing.LabelEncoder()\n",
        "train_df['flag_fraude_cat']= label_encoder.fit_transform(train_df['flag_fraude_cat'])\n",
        "test_df['flag_fraude_cat']= label_encoder.transform(test_df['flag_fraude_cat'])"
      ]
    },
    {
      "cell_type": "code",
      "execution_count": null,
      "metadata": {
        "id": "L7lXJEQBzkug"
      },
      "outputs": [],
      "source": [
        "y_train = train_df['flag_fraude_cat']\n",
        "X_train = train_df.drop([\"flag_fraude_cat\"], axis = 1)\n",
        "\n",
        "y_train = pd.DataFrame(y_train)"
      ]
    },
    {
      "cell_type": "code",
      "execution_count": null,
      "metadata": {
        "id": "0_l1CAwGzkug",
        "outputId": "e144c0b2-bdbe-4797-fd3b-0514f4438610"
      },
      "outputs": [
        {
          "name": "stdout",
          "output_type": "stream",
          "text": [
            "original dataset shape: Counter({'flag_fraude_cat': 1})\n",
            "Resample dataset shape Counter({'flag_fraude_cat': 1})\n"
          ]
        }
      ],
      "source": [
        "# import library\n",
        "from collections import Counter\n",
        "from imblearn.under_sampling import RandomUnderSampler\n",
        "\n",
        "rus = RandomUnderSampler(random_state=42, replacement=True)# fit predictor and target variable\n",
        "x_rus_train, y_rus_train = rus.fit_resample(X_train, y_train)\n",
        "\n",
        "print('original dataset shape:', Counter(y_train))\n",
        "print('Resample dataset shape', Counter(y_rus_train))"
      ]
    },
    {
      "cell_type": "code",
      "execution_count": null,
      "metadata": {
        "id": "HvVD6tK1zkug"
      },
      "outputs": [],
      "source": [
        "train_df = pd.concat([x_rus_train, y_rus_train], axis=1)"
      ]
    },
    {
      "cell_type": "code",
      "execution_count": null,
      "metadata": {
        "id": "QX2N3vvvzkuh"
      },
      "outputs": [],
      "source": [
        "#Scaling\n",
        "from sklearn.preprocessing import MinMaxScaler\n",
        "scaler = MinMaxScaler()\n",
        "\n",
        "train_df = scaler.fit_transform(train_df)\n",
        "test_df = scaler.transform(test_df)"
      ]
    },
    {
      "cell_type": "code",
      "execution_count": null,
      "metadata": {
        "id": "bCA6OQLqzkuh"
      },
      "outputs": [],
      "source": [
        "y_train = train_df[:,17]\n",
        "X_train = train_df[:,0:17]\n",
        "\n",
        "y_test = test_df[:,17]\n",
        "X_test = test_df[:,0:17]"
      ]
    },
    {
      "cell_type": "code",
      "execution_count": null,
      "metadata": {
        "id": "yneQZVG7zkuh"
      },
      "outputs": [],
      "source": [
        "from sklearn.decomposition import PCA\n",
        "\n",
        "n_compo = 9\n",
        "pca = PCA(n_components=n_compo)\n",
        "X_train = pca.fit_transform(X_train)\n",
        "X_test = pca.transform(X_test)"
      ]
    },
    {
      "cell_type": "code",
      "execution_count": null,
      "metadata": {
        "id": "bOYawAMAzkuh"
      },
      "outputs": [],
      "source": [
        "x_cols=['0','1','2','3','4','5','6','7','8']\n",
        "y_cols = [\"9\"]\n",
        "X_train = pd.DataFrame(X_train, columns=x_cols)\n",
        "X_test = pd.DataFrame(X_test, columns=x_cols)\n",
        "\n",
        "y_train = pd.DataFrame(y_train,columns=y_cols)\n",
        "y_test = pd.DataFrame(y_test,columns=y_cols)\n",
        "\n",
        "\n",
        "train_data = pd.concat([X_train, y_train], axis=1)\n",
        "test_data = pd.concat([X_test, y_test], axis=1)"
      ]
    },
    {
      "cell_type": "code",
      "execution_count": null,
      "metadata": {
        "id": "NzC1CmE0zkuh",
        "outputId": "350306c4-0b8e-46a0-f08b-fc9a9e53c1b5"
      },
      "outputs": [
        {
          "data": {
            "text/html": [
              "<div>\n",
              "<style scoped>\n",
              "    .dataframe tbody tr th:only-of-type {\n",
              "        vertical-align: middle;\n",
              "    }\n",
              "\n",
              "    .dataframe tbody tr th {\n",
              "        vertical-align: top;\n",
              "    }\n",
              "\n",
              "    .dataframe thead th {\n",
              "        text-align: right;\n",
              "    }\n",
              "</style>\n",
              "<table border=\"1\" class=\"dataframe\">\n",
              "  <thead>\n",
              "    <tr style=\"text-align: right;\">\n",
              "      <th></th>\n",
              "      <th>0</th>\n",
              "      <th>1</th>\n",
              "      <th>2</th>\n",
              "      <th>3</th>\n",
              "      <th>4</th>\n",
              "      <th>5</th>\n",
              "      <th>6</th>\n",
              "      <th>7</th>\n",
              "      <th>8</th>\n",
              "      <th>9</th>\n",
              "    </tr>\n",
              "  </thead>\n",
              "  <tbody>\n",
              "    <tr>\n",
              "      <th>0</th>\n",
              "      <td>-0.559993</td>\n",
              "      <td>0.247048</td>\n",
              "      <td>-0.596639</td>\n",
              "      <td>-0.157258</td>\n",
              "      <td>0.224797</td>\n",
              "      <td>0.490947</td>\n",
              "      <td>-0.052817</td>\n",
              "      <td>0.179825</td>\n",
              "      <td>-0.029925</td>\n",
              "      <td>0.0</td>\n",
              "    </tr>\n",
              "    <tr>\n",
              "      <th>1</th>\n",
              "      <td>0.888061</td>\n",
              "      <td>-0.275197</td>\n",
              "      <td>-0.275912</td>\n",
              "      <td>0.390808</td>\n",
              "      <td>0.244489</td>\n",
              "      <td>0.105781</td>\n",
              "      <td>0.065852</td>\n",
              "      <td>-0.013664</td>\n",
              "      <td>0.299256</td>\n",
              "      <td>0.0</td>\n",
              "    </tr>\n",
              "    <tr>\n",
              "      <th>2</th>\n",
              "      <td>-0.152070</td>\n",
              "      <td>0.064997</td>\n",
              "      <td>-1.002895</td>\n",
              "      <td>0.082281</td>\n",
              "      <td>-0.268935</td>\n",
              "      <td>0.680584</td>\n",
              "      <td>0.151167</td>\n",
              "      <td>0.052005</td>\n",
              "      <td>0.169668</td>\n",
              "      <td>0.0</td>\n",
              "    </tr>\n",
              "    <tr>\n",
              "      <th>3</th>\n",
              "      <td>-0.928989</td>\n",
              "      <td>0.210284</td>\n",
              "      <td>-0.018018</td>\n",
              "      <td>-0.527758</td>\n",
              "      <td>0.110422</td>\n",
              "      <td>-0.029783</td>\n",
              "      <td>0.032112</td>\n",
              "      <td>-0.055905</td>\n",
              "      <td>0.198628</td>\n",
              "      <td>0.0</td>\n",
              "    </tr>\n",
              "    <tr>\n",
              "      <th>4</th>\n",
              "      <td>-0.137213</td>\n",
              "      <td>-0.332262</td>\n",
              "      <td>0.159649</td>\n",
              "      <td>0.821831</td>\n",
              "      <td>-0.059906</td>\n",
              "      <td>0.173081</td>\n",
              "      <td>-0.099298</td>\n",
              "      <td>0.055785</td>\n",
              "      <td>-0.009832</td>\n",
              "      <td>0.0</td>\n",
              "    </tr>\n",
              "    <tr>\n",
              "      <th>...</th>\n",
              "      <td>...</td>\n",
              "      <td>...</td>\n",
              "      <td>...</td>\n",
              "      <td>...</td>\n",
              "      <td>...</td>\n",
              "      <td>...</td>\n",
              "      <td>...</td>\n",
              "      <td>...</td>\n",
              "      <td>...</td>\n",
              "      <td>...</td>\n",
              "    </tr>\n",
              "    <tr>\n",
              "      <th>22521</th>\n",
              "      <td>0.382723</td>\n",
              "      <td>0.477892</td>\n",
              "      <td>0.585246</td>\n",
              "      <td>-0.495726</td>\n",
              "      <td>-0.265302</td>\n",
              "      <td>-0.050183</td>\n",
              "      <td>-0.041605</td>\n",
              "      <td>-0.186043</td>\n",
              "      <td>-0.096620</td>\n",
              "      <td>1.0</td>\n",
              "    </tr>\n",
              "    <tr>\n",
              "      <th>22522</th>\n",
              "      <td>0.099692</td>\n",
              "      <td>0.894558</td>\n",
              "      <td>0.472985</td>\n",
              "      <td>-0.419046</td>\n",
              "      <td>0.253671</td>\n",
              "      <td>-0.340663</td>\n",
              "      <td>0.118172</td>\n",
              "      <td>-0.431162</td>\n",
              "      <td>0.127026</td>\n",
              "      <td>1.0</td>\n",
              "    </tr>\n",
              "    <tr>\n",
              "      <th>22523</th>\n",
              "      <td>-0.078235</td>\n",
              "      <td>0.154620</td>\n",
              "      <td>0.879750</td>\n",
              "      <td>0.061659</td>\n",
              "      <td>0.007981</td>\n",
              "      <td>-0.438488</td>\n",
              "      <td>-0.029195</td>\n",
              "      <td>0.629304</td>\n",
              "      <td>0.157348</td>\n",
              "      <td>1.0</td>\n",
              "    </tr>\n",
              "    <tr>\n",
              "      <th>22524</th>\n",
              "      <td>-0.246443</td>\n",
              "      <td>1.279679</td>\n",
              "      <td>0.298889</td>\n",
              "      <td>-0.436758</td>\n",
              "      <td>-0.579422</td>\n",
              "      <td>0.157338</td>\n",
              "      <td>0.260171</td>\n",
              "      <td>0.003391</td>\n",
              "      <td>0.292058</td>\n",
              "      <td>1.0</td>\n",
              "    </tr>\n",
              "    <tr>\n",
              "      <th>22525</th>\n",
              "      <td>0.682177</td>\n",
              "      <td>-0.086440</td>\n",
              "      <td>-0.247474</td>\n",
              "      <td>0.797860</td>\n",
              "      <td>0.056676</td>\n",
              "      <td>0.270025</td>\n",
              "      <td>0.202073</td>\n",
              "      <td>0.016281</td>\n",
              "      <td>0.096738</td>\n",
              "      <td>1.0</td>\n",
              "    </tr>\n",
              "  </tbody>\n",
              "</table>\n",
              "<p>22526 rows × 10 columns</p>\n",
              "</div>"
            ],
            "text/plain": [
              "              0         1         2         3         4         5         6  \\\n",
              "0     -0.559993  0.247048 -0.596639 -0.157258  0.224797  0.490947 -0.052817   \n",
              "1      0.888061 -0.275197 -0.275912  0.390808  0.244489  0.105781  0.065852   \n",
              "2     -0.152070  0.064997 -1.002895  0.082281 -0.268935  0.680584  0.151167   \n",
              "3     -0.928989  0.210284 -0.018018 -0.527758  0.110422 -0.029783  0.032112   \n",
              "4     -0.137213 -0.332262  0.159649  0.821831 -0.059906  0.173081 -0.099298   \n",
              "...         ...       ...       ...       ...       ...       ...       ...   \n",
              "22521  0.382723  0.477892  0.585246 -0.495726 -0.265302 -0.050183 -0.041605   \n",
              "22522  0.099692  0.894558  0.472985 -0.419046  0.253671 -0.340663  0.118172   \n",
              "22523 -0.078235  0.154620  0.879750  0.061659  0.007981 -0.438488 -0.029195   \n",
              "22524 -0.246443  1.279679  0.298889 -0.436758 -0.579422  0.157338  0.260171   \n",
              "22525  0.682177 -0.086440 -0.247474  0.797860  0.056676  0.270025  0.202073   \n",
              "\n",
              "              7         8    9  \n",
              "0      0.179825 -0.029925  0.0  \n",
              "1     -0.013664  0.299256  0.0  \n",
              "2      0.052005  0.169668  0.0  \n",
              "3     -0.055905  0.198628  0.0  \n",
              "4      0.055785 -0.009832  0.0  \n",
              "...         ...       ...  ...  \n",
              "22521 -0.186043 -0.096620  1.0  \n",
              "22522 -0.431162  0.127026  1.0  \n",
              "22523  0.629304  0.157348  1.0  \n",
              "22524  0.003391  0.292058  1.0  \n",
              "22525  0.016281  0.096738  1.0  \n",
              "\n",
              "[22526 rows x 10 columns]"
            ]
          },
          "execution_count": 36,
          "metadata": {},
          "output_type": "execute_result"
        }
      ],
      "source": [
        "train_data"
      ]
    },
    {
      "cell_type": "code",
      "execution_count": null,
      "metadata": {
        "id": "4sxpfk16zkuh",
        "outputId": "3877b5b7-ffd3-4d41-e229-6eb879ded9d4"
      },
      "outputs": [
        {
          "name": "stdout",
          "output_type": "stream",
          "text": [
            "0    0\n",
            "1    0\n",
            "2    0\n",
            "3    0\n",
            "4    0\n",
            "5    0\n",
            "6    0\n",
            "7    0\n",
            "8    0\n",
            "9    0\n",
            "dtype: int64\n"
          ]
        }
      ],
      "source": [
        "# Counting NaN values in all columns\n",
        "nan_count = train_data.isna().sum()\n",
        "\n",
        "print(nan_count)"
      ]
    },
    {
      "cell_type": "code",
      "execution_count": null,
      "metadata": {
        "id": "5bMTJCobzkuh"
      },
      "outputs": [],
      "source": [
        "#Sliding Window\n",
        "\n",
        "window_size = 5"
      ]
    },
    {
      "cell_type": "code",
      "execution_count": null,
      "metadata": {
        "id": "rK_OLhtmzkuh"
      },
      "outputs": [],
      "source": [
        "X_train = []\n",
        "y_train = []\n",
        "\n",
        "for i in range(window_size, len(train_data)):\n",
        "    record = []\n",
        "\n",
        "    record = train_data.loc[i-window_size:i-1, :].values.flatten().tolist()\n",
        "    record = record +  train_data.loc[i, x_cols].values.flatten().tolist()\n",
        "\n",
        "    X_train.append(record)\n",
        "    y_train = y_train + train_data.loc[i, y_cols].values.flatten().tolist()\n"
      ]
    },
    {
      "cell_type": "code",
      "execution_count": null,
      "metadata": {
        "id": "ZTxIxcO5zkuh"
      },
      "outputs": [],
      "source": [
        "#test set\n",
        "\n",
        "X_test = []\n",
        "y_test = []\n",
        "\n",
        "\n",
        "for i in range(window_size, len(test_data)):\n",
        "    record = []\n",
        "    record = test_data.loc[i-window_size:i-1, :].values.flatten().tolist()\n",
        "    record = record +  test_data.loc[i, x_cols].values.flatten().tolist()\n",
        "    X_test.append(record)\n",
        "    y_test = y_test + test_data.loc[i, y_cols].values.flatten().tolist()\n"
      ]
    },
    {
      "cell_type": "code",
      "execution_count": null,
      "metadata": {
        "id": "AD_W4yaTzkuh"
      },
      "outputs": [],
      "source": [
        "import numpy as np\n",
        "\n",
        "X_train = np.array(X_train)\n",
        "X_test  = np.array(X_test)\n",
        "y_train = np.array(y_train)\n",
        "y_test  = np.array(y_test)"
      ]
    },
    {
      "cell_type": "markdown",
      "metadata": {
        "id": "6XdP-CUgzkuh"
      },
      "source": [
        "    Gaussain Naive Bayes"
      ]
    },
    {
      "cell_type": "code",
      "execution_count": null,
      "metadata": {
        "id": "AFnqtxAyzkuh",
        "outputId": "904e5f63-8aa1-449e-a32f-9d58212b6d06"
      },
      "outputs": [
        {
          "name": "stdout",
          "output_type": "stream",
          "text": [
            "F-2 Score:\n",
            "0.2700502753172133\n",
            "Recall:\n",
            "0.407514450867052\n",
            "Precision:\n",
            "0.1149495567104861\n",
            "Accuracy:\n",
            "0.8627797565254373\n"
          ]
        }
      ],
      "source": [
        "from sklearn.naive_bayes import GaussianNB\n",
        "\n",
        "gnb = GaussianNB()\n",
        "gnb.fit(X_train, y_train)\n",
        "y_pred_gnb = gnb.predict(X_test)\n",
        "\n",
        "d = []\n",
        "d = list(eval(y_test, y_pred_gnb))\n",
        "d.insert(0,\"Gaussain Naive Bayes\")\n",
        "report.append(d)"
      ]
    },
    {
      "cell_type": "markdown",
      "metadata": {
        "id": "SEwcG829zkui"
      },
      "source": [
        "    Desicion Tree"
      ]
    },
    {
      "cell_type": "code",
      "execution_count": null,
      "metadata": {
        "id": "WDQoR7ihzkui",
        "outputId": "ee3d9515-15aa-49dc-81f3-5ced02ed36e5"
      },
      "outputs": [
        {
          "name": "stdout",
          "output_type": "stream",
          "text": [
            "F-2 Score:\n",
            "0.3277031904143208\n",
            "Recall:\n",
            "0.32803468208092484\n",
            "Precision:\n",
            "0.32638389647735444\n",
            "Accuracy:\n",
            "0.9503747807134124\n"
          ]
        },
        {
          "data": {
            "text/plain": [
              "[Text(0.6, 0.875, 'x[49] <= 0.5\\ngini = 0.5\\nsamples = 22521\\nvalue = [11258, 11263]'),\n",
              " Text(0.4, 0.625, 'x[56] <= 0.57\\ngini = 0.0\\nsamples = 11259\\nvalue = [11258, 1]'),\n",
              " Text(0.2, 0.375, 'gini = 0.0\\nsamples = 11151\\nvalue = [11151, 0]'),\n",
              " Text(0.6, 0.375, 'x[56] <= 0.571\\ngini = 0.018\\nsamples = 108\\nvalue = [107, 1]'),\n",
              " Text(0.4, 0.125, 'gini = 0.0\\nsamples = 1\\nvalue = [0, 1]'),\n",
              " Text(0.8, 0.125, 'gini = 0.0\\nsamples = 107\\nvalue = [107, 0]'),\n",
              " Text(0.8, 0.625, 'gini = 0.0\\nsamples = 11262\\nvalue = [0, 11262]')]"
            ]
          },
          "execution_count": 43,
          "metadata": {},
          "output_type": "execute_result"
        },
        {
          "data": {
            "image/png": "[encoded data removed]",
            "text/plain": [
              "<Figure size 640x480 with 1 Axes>"
            ]
          },
          "metadata": {},
          "output_type": "display_data"
        }
      ],
      "source": [
        "from sklearn import tree\n",
        "from sklearn.tree import DecisionTreeClassifier\n",
        "import matplotlib.pyplot as plt\n",
        "\n",
        "dtree = DecisionTreeClassifier()\n",
        "dtree = dtree.fit(X_train, y_train)\n",
        "y_pred_dt = dtree.predict(X_test)\n",
        "\n",
        "d = []\n",
        "d = list(eval(y_test, y_pred_dt))\n",
        "d.insert(0,\"Desicion Tree\")\n",
        "report.append(d)\n",
        "\n",
        "tree.plot_tree(dtree)"
      ]
    },
    {
      "cell_type": "markdown",
      "metadata": {
        "id": "dmNE7wQCzkui"
      },
      "source": [
        "    SVM with Linear Kernel"
      ]
    },
    {
      "cell_type": "code",
      "execution_count": null,
      "metadata": {
        "id": "ZIMlr2l5zkui",
        "outputId": "36bcbb5f-1598-4b30-9b09-a7d43e5fb64c"
      },
      "outputs": [
        {
          "name": "stdout",
          "output_type": "stream",
          "text": [
            "F-2 Score:\n",
            "0.285112465207252\n",
            "Recall:\n",
            "0.2738439306358382\n",
            "Precision:\n",
            "0.34128770823953175\n",
            "Accuracy:\n",
            "0.9538434958269097\n"
          ]
        }
      ],
      "source": [
        "from sklearn.svm import SVC\n",
        "svm_clf = SVC(kernel='linear')\n",
        "\n",
        "svm_clf.fit(X_train, y_train)\n",
        "\n",
        "y_pred_svm = svm_clf.predict(X_test)\n",
        "\n",
        "d = []\n",
        "d = list(eval(y_test, y_pred_svm))\n",
        "d.insert(0,\"SVM(linear kernel)\")\n",
        "report.append(d)\n",
        "\n"
      ]
    },
    {
      "cell_type": "markdown",
      "metadata": {
        "id": "PolSQJHLzkui"
      },
      "source": [
        "    SVM with Polynomial Kernel"
      ]
    },
    {
      "cell_type": "code",
      "execution_count": null,
      "metadata": {
        "id": "Rs1ZqT1Pzkui",
        "outputId": "3f0b8773-0ede-4ff0-867e-872d1da3b609"
      },
      "outputs": [
        {
          "name": "stdout",
          "output_type": "stream",
          "text": [
            "F-2 Score:\n",
            "0.04975343430785487\n",
            "Recall:\n",
            "0.040823699421965315\n",
            "Precision:\n",
            "0.397887323943662\n",
            "Accuracy:\n",
            "0.9624421880814417\n"
          ]
        }
      ],
      "source": [
        "p_svm_clf = SVC(kernel='poly')\n",
        "\n",
        "p_svm_clf.fit(X_train, y_train)\n",
        "\n",
        "y_pred_p_svm = p_svm_clf.predict(X_test)\n",
        "\n",
        "d = []\n",
        "d = list(eval(y_test, y_pred_p_svm))\n",
        "d.insert(0,\"SVM(polynomial kernel)\")\n",
        "report.append(d)"
      ]
    },
    {
      "cell_type": "markdown",
      "metadata": {
        "id": "NBcEAk1gzkui"
      },
      "source": [
        "    SVM with Gaussian RBF Kernel"
      ]
    },
    {
      "cell_type": "code",
      "execution_count": null,
      "metadata": {
        "id": "ppKzVPpwzkui",
        "outputId": "4ba8e3cd-70a2-4890-f6e1-19cd98341c8d"
      },
      "outputs": [
        {
          "name": "stdout",
          "output_type": "stream",
          "text": [
            "F-2 Score:\n",
            "0.14548549197600907\n",
            "Recall:\n",
            "0.12969653179190752\n",
            "Precision:\n",
            "0.2835703001579779\n",
            "Accuracy:\n",
            "0.9559300409334963\n"
          ]
        }
      ],
      "source": [
        "g_svm_clf = SVC(kernel='rbf')\n",
        "\n",
        "g_svm_clf.fit(X_train, y_train)\n",
        "\n",
        "y_pred_g_svm = g_svm_clf.predict(X_test)\n",
        "\n",
        "d = []\n",
        "d = list(eval(y_test, y_pred_g_svm))\n",
        "d.insert(0,\"SVM(gaussian RBF kernel)\")\n",
        "report.append(d)"
      ]
    },
    {
      "cell_type": "code",
      "execution_count": null,
      "metadata": {
        "id": "rtN5XjZ3zkui",
        "outputId": "6032c88f-0ecb-44c4-ec78-88057b0395bc"
      },
      "outputs": [
        {
          "data": {
            "text/html": [
              "<div>\n",
              "<style scoped>\n",
              "    .dataframe tbody tr th:only-of-type {\n",
              "        vertical-align: middle;\n",
              "    }\n",
              "\n",
              "    .dataframe tbody tr th {\n",
              "        vertical-align: top;\n",
              "    }\n",
              "\n",
              "    .dataframe thead th {\n",
              "        text-align: right;\n",
              "    }\n",
              "</style>\n",
              "<table border=\"1\" class=\"dataframe\">\n",
              "  <thead>\n",
              "    <tr style=\"text-align: right;\">\n",
              "      <th></th>\n",
              "      <th>Method</th>\n",
              "      <th>F-2 Score</th>\n",
              "      <th>Recall</th>\n",
              "      <th>Precision</th>\n",
              "      <th>Accuracy</th>\n",
              "    </tr>\n",
              "  </thead>\n",
              "  <tbody>\n",
              "    <tr>\n",
              "      <th>0</th>\n",
              "      <td>Parametric with Mahalanobis distance</td>\n",
              "      <td>0.110053</td>\n",
              "      <td>0.101658</td>\n",
              "      <td>0.164336</td>\n",
              "      <td>0.947628</td>\n",
              "    </tr>\n",
              "    <tr>\n",
              "      <th>1</th>\n",
              "      <td>LOF</td>\n",
              "      <td>0.006094</td>\n",
              "      <td>0.006414</td>\n",
              "      <td>0.005079</td>\n",
              "      <td>0.915768</td>\n",
              "    </tr>\n",
              "    <tr>\n",
              "      <th>2</th>\n",
              "      <td>K-means</td>\n",
              "      <td>0.184734</td>\n",
              "      <td>0.427838</td>\n",
              "      <td>0.056444</td>\n",
              "      <td>0.710856</td>\n",
              "    </tr>\n",
              "    <tr>\n",
              "      <th>3</th>\n",
              "      <td>Gaussain Naive Bayes</td>\n",
              "      <td>0.270050</td>\n",
              "      <td>0.407514</td>\n",
              "      <td>0.114950</td>\n",
              "      <td>0.862780</td>\n",
              "    </tr>\n",
              "    <tr>\n",
              "      <th>4</th>\n",
              "      <td>Desicion Tree</td>\n",
              "      <td>0.327703</td>\n",
              "      <td>0.328035</td>\n",
              "      <td>0.326384</td>\n",
              "      <td>0.950375</td>\n",
              "    </tr>\n",
              "    <tr>\n",
              "      <th>5</th>\n",
              "      <td>SVM(linear kernel)</td>\n",
              "      <td>0.285112</td>\n",
              "      <td>0.273844</td>\n",
              "      <td>0.341288</td>\n",
              "      <td>0.953843</td>\n",
              "    </tr>\n",
              "    <tr>\n",
              "      <th>6</th>\n",
              "      <td>SVM(polynomial kernel)</td>\n",
              "      <td>0.049753</td>\n",
              "      <td>0.040824</td>\n",
              "      <td>0.397887</td>\n",
              "      <td>0.962442</td>\n",
              "    </tr>\n",
              "    <tr>\n",
              "      <th>7</th>\n",
              "      <td>SVM(gaussian RBF kernel)</td>\n",
              "      <td>0.145485</td>\n",
              "      <td>0.129697</td>\n",
              "      <td>0.283570</td>\n",
              "      <td>0.955930</td>\n",
              "    </tr>\n",
              "  </tbody>\n",
              "</table>\n",
              "</div>"
            ],
            "text/plain": [
              "                                  Method  F-2 Score    Recall  Precision  \\\n",
              "0   Parametric with Mahalanobis distance   0.110053  0.101658   0.164336   \n",
              "1                                    LOF   0.006094  0.006414   0.005079   \n",
              "2                                K-means   0.184734  0.427838   0.056444   \n",
              "3                   Gaussain Naive Bayes   0.270050  0.407514   0.114950   \n",
              "4                          Desicion Tree   0.327703  0.328035   0.326384   \n",
              "5                     SVM(linear kernel)   0.285112  0.273844   0.341288   \n",
              "6                 SVM(polynomial kernel)   0.049753  0.040824   0.397887   \n",
              "7               SVM(gaussian RBF kernel)   0.145485  0.129697   0.283570   \n",
              "\n",
              "   Accuracy  \n",
              "0  0.947628  \n",
              "1  0.915768  \n",
              "2  0.710856  \n",
              "3  0.862780  \n",
              "4  0.950375  \n",
              "5  0.953843  \n",
              "6  0.962442  \n",
              "7  0.955930  "
            ]
          },
          "execution_count": 47,
          "metadata": {},
          "output_type": "execute_result"
        }
      ],
      "source": [
        "##############################Report##################################\n",
        "\n",
        "report_df = pd.DataFrame(report, columns=['Method', 'F-2 Score', 'Recall', 'Precision', 'Accuracy'])\n",
        "report_df"
      ]
    }
  ],
  "metadata": {
    "kernelspec": {
      "display_name": "base",
      "language": "python",
      "name": "python3"
    },
    "language_info": {
      "codemirror_mode": {
        "name": "ipython",
        "version": 3
      },
      "file_extension": ".py",
      "mimetype": "text/x-python",
      "name": "python",
      "nbconvert_exporter": "python",
      "pygments_lexer": "ipython3",
      "version": "3.11.3"
    },
    "colab": {
      "provenance": []
    }
  },
  "nbformat": 4,
  "nbformat_minor": 0
}